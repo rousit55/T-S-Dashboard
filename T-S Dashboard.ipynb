{
 "cells": [
  {
   "cell_type": "code",
   "execution_count": 16,
   "id": "29627947-b54e-4f01-b642-7e692794c132",
   "metadata": {},
   "outputs": [
    {
     "name": "stdout",
     "output_type": "stream",
     "text": [
      "Time-series data saved to 'grid_temperature_salinity_timeseries.csv'\n"
     ]
    }
   ],
   "source": [
    "import pandas as pd\n",
    "import random\n",
    "from datetime import datetime, timedelta\n",
    "\n",
    "# Parameters for data generation\n",
    "num_points = 50  # Number of grid points\n",
    "lat_range = (-90, 90)  # Latitude range\n",
    "lon_range = (-180, 180)  # Longitude range\n",
    "temperature_range = (10, 30)  # Temperature range (°C)\n",
    "salinity_range = (30, 40)  # Salinity range (PSU)\n",
    "time_steps = 10  # Number of time steps per grid point\n",
    "start_date = datetime(2024, 1, 1)\n",
    "\n",
    "# Generate random data\n",
    "data = []\n",
    "for _ in range(num_points):\n",
    "    lat = round(random.uniform(*lat_range), 2)  # Random latitude\n",
    "    lon = round(random.uniform(*lon_range), 2)  # Random longitude\n",
    "    for step in range(time_steps):\n",
    "        date = start_date + timedelta(days=step)\n",
    "        temperature = round(random.uniform(*temperature_range), 2)  # Random temperature\n",
    "        salinity = round(random.uniform(*salinity_range), 2)  # Random salinity\n",
    "        data.append([lat, lon, date, temperature, salinity])\n",
    "\n",
    "# Create a DataFrame\n",
    "df = pd.DataFrame(data, columns=[\"Latitude\", \"Longitude\", \"Date\", \"Temperature (°C)\", \"Salinity (PSU)\"])\n",
    "\n",
    "# Save the data to a CSV file\n",
    "df.to_csv(\"grid_temperature_salinity_timeseries.csv\", index=False)\n",
    "\n",
    "print(\"Time-series data saved to 'grid_temperature_salinity_timeseries.csv'\")\n"
   ]
  },
  {
   "cell_type": "code",
   "execution_count": 15,
   "id": "986088fb-7ebd-4ce8-92ad-0bac7530e03c",
   "metadata": {},
   "outputs": [
    {
     "name": "stdin",
     "output_type": "stream",
     "text": [
      "Once deleted, variables cannot be recovered. Proceed (y/[n])?  y\n"
     ]
    }
   ],
   "source": [
    "%reset"
   ]
  },
  {
   "cell_type": "code",
   "execution_count": 18,
   "id": "b1df2cc0-de07-489c-848b-e32fd0a67daa",
   "metadata": {},
   "outputs": [
    {
     "data": {
      "text/html": [
       "\n",
       "        <iframe\n",
       "            width=\"100%\"\n",
       "            height=\"650\"\n",
       "            src=\"http://127.0.0.1:8050/\"\n",
       "            frameborder=\"0\"\n",
       "            allowfullscreen\n",
       "            \n",
       "        ></iframe>\n",
       "        "
      ],
      "text/plain": [
       "<IPython.lib.display.IFrame at 0x7feda5162590>"
      ]
     },
     "metadata": {},
     "output_type": "display_data"
    }
   ],
   "source": [
    "import dash\n",
    "from dash import dcc, html\n",
    "from dash.dependencies import Input, Output\n",
    "import pandas as pd\n",
    "import plotly.express as px\n",
    "\n",
    "# Load the time-series gridpoint data\n",
    "data = pd.read_csv(\"grid_temperature_salinity_timeseries.csv\")\n",
    "data['Date'] = pd.to_datetime(data['Date'])\n",
    "\n",
    "# Initialize the Dash app\n",
    "app = dash.Dash(__name__)\n",
    "\n",
    "# App Layout\n",
    "app.layout = html.Div([\n",
    "    html.H1(\"Temperature and Salinity Grid Dashboard\", style={'textAlign': 'center'}),\n",
    "\n",
    "    # Scatter mapbox plot\n",
    "    html.Label(\"Click a grid point on the map to see time series:\"),\n",
    "    dcc.Graph(id='grid-map'),\n",
    "\n",
    "    # Time series plots\n",
    "    html.Div([\n",
    "        html.Div([\n",
    "            dcc.Graph(id='temperature-time-series')\n",
    "        ], style={'width': '48%', 'display': 'inline-block'}),\n",
    "\n",
    "        html.Div([\n",
    "            dcc.Graph(id='salinity-time-series')\n",
    "        ], style={'width': '48%', 'display': 'inline-block'}),\n",
    "    ])\n",
    "])\n",
    "\n",
    "# Callback to update the scatter map\n",
    "@app.callback(\n",
    "    Output('grid-map', 'figure'),\n",
    "    [Input('grid-map', 'id')]  # Use 'id' as the trigger to initialize the map\n",
    ")\n",
    "def update_map(_):\n",
    "    # Create a scatter_geo map\n",
    "    fig = px.scatter_geo(\n",
    "        data.groupby(['Latitude', 'Longitude'])[['Temperature (°C)', 'Salinity (PSU)']].mean().reset_index(),\n",
    "        lat=\"Latitude\",\n",
    "        lon=\"Longitude\",\n",
    "        size=\"Temperature (°C)\",  # Optional: size the points by temperature\n",
    "        color=\"Temperature (°C)\",  # Optional: color the points by temperature\n",
    "        title=\"Grid Points - Temperature (°C)\",\n",
    "        color_continuous_scale=\"Viridis\",\n",
    "        projection=\"natural earth\",\n",
    "    )\n",
    "    return fig\n",
    "\n",
    "# Callback to update the time-series plots\n",
    "@app.callback(\n",
    "    [Output('temperature-time-series', 'figure'),\n",
    "     Output('salinity-time-series', 'figure')],\n",
    "    [Input('grid-map', 'clickData')]  # Listen for click events on the map\n",
    ")\n",
    "def update_time_series(click_data):\n",
    "    # If no grid point is clicked, return empty figures\n",
    "    if not click_data:\n",
    "        return {}, {}\n",
    "\n",
    "    # Extract latitude and longitude of clicked point\n",
    "    lat = click_data['points'][0]['lat']\n",
    "    lon = click_data['points'][0]['lon']\n",
    "\n",
    "    # Filter data for the selected grid point\n",
    "    filtered_data = data[(data['Latitude'] == lat) & (data['Longitude'] == lon)]\n",
    "\n",
    "    # Create time-series plot for temperature\n",
    "    temp_fig = px.line(\n",
    "        filtered_data,\n",
    "        x='Date',\n",
    "        y='Temperature (°C)',\n",
    "        title=f\"Temperature Time Series at ({lat}, {lon})\",\n",
    "        labels={'Date': 'Date', 'Temperature (°C)': 'Temperature (°C)'},\n",
    "        color_discrete_sequence=['orange']\n",
    "    )\n",
    "\n",
    "    # Create time-series plot for salinity\n",
    "    salinity_fig = px.line(\n",
    "        filtered_data,\n",
    "        x='Date',\n",
    "        y='Salinity (PSU)',\n",
    "        title=f\"Salinity Time Series at ({lat}, {lon})\",\n",
    "        labels={'Date': 'Date', 'Salinity (PSU)': 'Salinity (PSU)'},\n",
    "        color_discrete_sequence=['blue']\n",
    "    )\n",
    "\n",
    "    return temp_fig, salinity_fig\n",
    "\n",
    "# Run the app\n",
    "if __name__ == \"__main__\":\n",
    "    app.run_server(debug=True)\n"
   ]
  },
  {
   "cell_type": "code",
   "execution_count": null,
   "id": "0b763919-da8f-4964-a750-2d93e12669bf",
   "metadata": {},
   "outputs": [],
   "source": []
  }
 ],
 "metadata": {
  "kernelspec": {
   "display_name": "Python 3 (ipykernel)",
   "language": "python",
   "name": "python3"
  },
  "language_info": {
   "codemirror_mode": {
    "name": "ipython",
    "version": 3
   },
   "file_extension": ".py",
   "mimetype": "text/x-python",
   "name": "python",
   "nbconvert_exporter": "python",
   "pygments_lexer": "ipython3",
   "version": "3.10.14"
  }
 },
 "nbformat": 4,
 "nbformat_minor": 5
}
